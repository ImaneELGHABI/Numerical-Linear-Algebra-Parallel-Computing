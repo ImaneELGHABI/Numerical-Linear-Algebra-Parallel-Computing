{
 "cells": [
  {
   "cell_type": "markdown",
   "id": "aea03da3",
   "metadata": {},
   "source": [
    "In this assignement, feel free to use the `sparse` module from `scipy`."
   ]
  },
  {
   "cell_type": "markdown",
   "id": "2df42bcc",
   "metadata": {},
   "source": [
    "Use the cell below for your imports."
   ]
  },
  {
   "cell_type": "code",
   "execution_count": 1,
   "id": "e9644e55",
   "metadata": {},
   "outputs": [],
   "source": [
    "from scipy import sparse\n",
    "import numpy as np\n",
    "from scipy.sparse import coo_matrix\n",
    "from scipy.sparse import csr_matrix\n",
    "from scipy.sparse.linalg import spsolve"
   ]
  },
  {
   "cell_type": "markdown",
   "id": "8948a816",
   "metadata": {},
   "source": [
    "implement the function `mat_mul_coo` that takes two sparse matrices in `coo` and returns their product."
   ]
  },
  {
   "cell_type": "code",
   "execution_count": 4,
   "id": "6047ee0e",
   "metadata": {},
   "outputs": [],
   "source": [
    "def mat_mul_coo(A, B):\n",
    "    # Ensure the number of columns in A matches the number of rows in B\n",
    "    if A.shape[1] != B.shape[0]:\n",
    "        raise ValueError(\"Matrix dimensions don't match\")\n",
    "\n",
    "    # Convert A and B to CSR format for efficient computation\n",
    "    A_csr = A.tocsr()\n",
    "    B_csr = B.tocsr()\n",
    "\n",
    "    # Initialize the result matrix in COO format\n",
    "    rows = A_csr.shape[0]\n",
    "    cols = B_csr.shape[1]\n",
    "    data = []\n",
    "    row_indices = []\n",
    "    col_indices = []\n",
    "\n",
    "    # Perform matrix multiplication\n",
    "    for i in range(rows):\n",
    "        row = A_csr.getrow(i)\n",
    "        for j in range(cols):\n",
    "            col = B_csr.getcol(j)\n",
    "            dot_product = row.dot(col).sum()\n",
    "            if dot_product != 0:\n",
    "                data.append(dot_product)\n",
    "                row_indices.append(i)\n",
    "                col_indices.append(j)\n",
    "\n",
    "    # Convert the result matrix to COO format and return it\n",
    "    result = sparse.coo_matrix((data, (row_indices, col_indices)), shape=(rows, cols))\n",
    "    return result\n",
    "\n",
    "\n",
    "# Define two sparse matrices in COO format\n",
    "A = coo_matrix(([1, 2, 3, 4, 5, 6], ([0, 0, 1, 1, 2, 2], [0, 1, 1, 2, 2, 3])), shape=(3, 4))\n",
    "B = coo_matrix(([1, 2, 3, 4, 5, 6, 7, 8], ([0, 0, 1, 1, 1, 2, 2, 2], [0, 1, 1, 2, 3, 2, 3, 4])), shape=(4, 5))\n",
    "\n",
    "# Compute the product of A and B using our function\n",
    "C = mat_mul_coo(A, B)\n",
    "\n",
    "# Compute the expected result using NumPy\n",
    "D = A.toarray().dot(B.toarray())\n",
    "\n",
    "# Check that the result is correct\n",
    "assert np.array_equal(C.toarray(), D)"
   ]
  },
  {
   "cell_type": "markdown",
   "id": "4a626dec",
   "metadata": {},
   "source": [
    "implement the function `mat_mul_csr` that takes two sparse matrices in `csr` format and returns their product."
   ]
  },
  {
   "cell_type": "code",
   "execution_count": 6,
   "id": "c2e56fbd",
   "metadata": {},
   "outputs": [],
   "source": [
    "def mat_mul_csr(A, B):\n",
    "    # Check if the number of columns in A matches the number of rows in B\n",
    "    if A.shape[1] != B.shape[0]:\n",
    "        raise ValueError(\"The number of columns in A must match the number of rows in B.\")\n",
    "\n",
    "    # Initialize arrays to store the output matrix in CSR format\n",
    "    rows = []\n",
    "    cols = []\n",
    "    data = []\n",
    "    ptrs = [0]\n",
    "\n",
    "    # Loop over each row of A\n",
    "    for i in range(A.shape[0]):\n",
    "        # Loop over each column of B\n",
    "        for j in range(B.shape[1]):\n",
    "            dot_product = 0\n",
    "            # Loop over the elements in the i-th row of A and the j-th column of B\n",
    "            for k1 in range(A.indptr[i], A.indptr[i+1]):\n",
    "                k2 = B.indptr[A.indices[k1]]\n",
    "                while k2 < B.indptr[A.indices[k1]+1] and B.indices[k2] <= j:\n",
    "                    if B.indices[k2] == j:\n",
    "                        dot_product += A.data[k1] * B.data[k2]\n",
    "                    k2 += 1\n",
    "            # Add the result to the output matrix if it's nonzero\n",
    "            if dot_product != 0:\n",
    "                rows.append(i)\n",
    "                cols.append(j)\n",
    "                data.append(dot_product)\n",
    "        # Update the pointer array for the current row\n",
    "        ptrs.append(len(data))\n",
    "\n",
    "    # Construct the output matrix in CSR format\n",
    "    C = csr_matrix((data, (rows, cols)), shape=(A.shape[0], B.shape[1]))\n",
    "    C.indptr = np.array(ptrs)\n",
    "\n",
    "    return C\n",
    "\n",
    "\n",
    "# Define two sparse matrices in CSR format\n",
    "A = csr_matrix(([1, 2, 3, 4, 5, 6], ([0, 0, 1, 1, 2, 2], [0, 1, 1, 2, 2, 3])), shape=(3, 4))\n",
    "B = csr_matrix(([1, 2, 3, 4, 5, 6, 7, 8], ([0, 0, 1, 1, 1, 2, 2, 2], [0, 1, 1, 2, 3, 2, 3, 4])), shape=(4, 5))\n",
    "\n",
    "# Compute the product of A and B using our function\n",
    "C = mat_mul_csr(A, B)\n",
    "\n",
    "# Compute the expected result using NumPy\n",
    "D = A.toarray().dot(B.toarray())\n",
    "\n",
    "# Check that the result is correct\n",
    "assert np.array_equal(C.toarray(), D)"
   ]
  },
  {
   "cell_type": "markdown",
   "id": "9592a90b",
   "metadata": {},
   "source": [
    "implement a function `solve_lin_sys` that takes a matrix `A` in `csr` format and a vector `b` as a numpy array and solves the system `Ax = b`."
   ]
  },
  {
   "cell_type": "code",
   "execution_count": 7,
   "id": "00edeb4c",
   "metadata": {},
   "outputs": [
    {
     "name": "stdout",
     "output_type": "stream",
     "text": [
      "[1. 1. 0.]\n"
     ]
    }
   ],
   "source": [
    "import numpy as np\n",
    "from scipy.sparse import csr_matrix\n",
    "from scipy.sparse.linalg import spsolve\n",
    "\n",
    "def solve_lin_sys(A, b):\n",
    "    # Check if A is square\n",
    "    if A.shape[0] != A.shape[1]:\n",
    "        raise ValueError(\"A must be a square matrix.\")\n",
    "    \n",
    "    # Check if the number of rows in A matches the length of b\n",
    "    if A.shape[0] != len(b):\n",
    "        raise ValueError(\"The number of rows in A must match the length of b.\")\n",
    "    \n",
    "    # Solve the linear system using spsolve\n",
    "    x = spsolve(A, b)\n",
    "    \n",
    "    return x\n",
    "\n",
    "# Define a sparse matrix A in CSR format and a dense vector b\n",
    "A = csr_matrix(([1, 2, 3, 4], ([0, 1, 2, 2], [0, 1, 1, 2])), shape=(3, 3))\n",
    "b = np.array([1, 2, 3])\n",
    "\n",
    "# Solve the linear system Ax = b using our function\n",
    "x = solve_lin_sys(A, b)\n",
    "\n",
    "# Print the solution vector x\n",
    "print(x)\n"
   ]
  }
 ],
 "metadata": {
  "kernelspec": {
   "display_name": "Python 3 (ipykernel)",
   "language": "python",
   "name": "python3"
  },
  "language_info": {
   "codemirror_mode": {
    "name": "ipython",
    "version": 3
   },
   "file_extension": ".py",
   "mimetype": "text/x-python",
   "name": "python",
   "nbconvert_exporter": "python",
   "pygments_lexer": "ipython3",
   "version": "3.10.6"
  }
 },
 "nbformat": 4,
 "nbformat_minor": 5
}
